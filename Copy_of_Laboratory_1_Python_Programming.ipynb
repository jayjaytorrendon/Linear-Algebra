{
  "nbformat": 4,
  "nbformat_minor": 0,
  "metadata": {
    "colab": {
      "name": "Copy of Laboratory 1: Python Programming",
      "provenance": [],
      "collapsed_sections": [],
      "toc_visible": true,
      "authorship_tag": "ABX9TyN5xs6k/37u1g67YS/GcSWA",
      "include_colab_link": true
    },
    "kernelspec": {
      "name": "python3",
      "display_name": "Python 3"
    }
  },
  "cells": [
    {
      "cell_type": "markdown",
      "metadata": {
        "id": "view-in-github",
        "colab_type": "text"
      },
      "source": [
        "<a href=\"https://colab.research.google.com/github/jayjaytorrendon/Linear-Algebra/blob/main/Copy_of_Laboratory_1_Python_Programming.ipynb\" target=\"_parent\"><img src=\"https://colab.research.google.com/assets/colab-badge.svg\" alt=\"Open In Colab\"/></a>"
      ]
    },
    {
      "cell_type": "code",
      "metadata": {
        "colab": {
          "base_uri": "https://localhost:8080/"
        },
        "id": "ru_zuSF6maph",
        "outputId": "305775ea-c100-4aa9-dc60-d9bf1a6d5e6e"
      },
      "source": [
        "print(\"Semestral Grade Computation\")\r\n",
        "wp, wm, wf = 0.3, 0.3, 0.4\r\n",
        "print(\"The weights of your semestral grades are:\\\r\n",
        "\\n\\tPrelim Grade : {:.2%}\\\r\n",
        "\\n\\tMidterm Grade: {:.2%}\\\r\n",
        "\\n\\tFinals Grade : {:.2%} \".format(wp, wm, wf))\r\n",
        "name = input(\"Name  : \")\r\n",
        "course = input(\"Course: \")\r\n",
        "prelim = float(input(\"Prelim Grade : \"))\r\n",
        "midterm = float(input(\"Midterm Grade: \"))\r\n",
        "finals = float(input(\"Finals Grade : \"))\r\n",
        "sg = prelim*.3 + midterm*.3 + finals*.4\r\n",
        "roundsg= round(sg, 2)\r\n",
        "happy, lol, sad = \"\\U0001F600\",\"\\U0001F606\",\"\\U0001F62D\"\r\n",
        "if(roundsg>70):\r\n",
        "  print(\"Hello {}, your semestral grade for the course {} is {}.{}\".format(name, course, roundsg, happy))\r\n",
        "elif(roundsg==70):\r\n",
        "  print(\"Hello {}, your semestral grade for the course {} is {}.{}\".format(name, course, roundsg, lol))\r\n",
        "else:\r\n",
        "  print(\"Hello {}, your semestral grade for the course {} is {}.{}\".format(name, course, roundsg, sad))\r\n"
      ],
      "execution_count": null,
      "outputs": [
        {
          "output_type": "stream",
          "text": [
            "Semestral Grade Computation\n",
            "The weights of your semestral grades are:\n",
            "\tPrelim Grade : 30.00%\n",
            "\tMidterm Grade: 30.00%\n",
            "\tFinals Grade : 40.00% \n",
            "Name  : Joel John Torrendon\n",
            "Course: Linear Algebra\n",
            "Prelim Grade : 86.5\n",
            "Midterm Grade: 58.97\n",
            "Finals Grade : 87.75\n",
            "Hello Joel John Torrendon, your semestral grade for the course Linear Algebra is 85.76.😀\n"
          ],
          "name": "stdout"
        }
      ]
    }
  ]
}