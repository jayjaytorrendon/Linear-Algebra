{
  "nbformat": 4,
  "nbformat_minor": 0,
  "metadata": {
    "colab": {
      "name": "Laboratory 1: Python Programming",
      "provenance": [],
      "collapsed_sections": [],
      "toc_visible": true,
      "authorship_tag": "ABX9TyNIF86lTv20FboMpii5wGLW",
      "include_colab_link": true
    },
    "kernelspec": {
      "name": "python3",
      "display_name": "Python 3"
    }
  },
  "cells": [
    {
      "cell_type": "markdown",
      "metadata": {
        "id": "view-in-github",
        "colab_type": "text"
      },
      "source": [
        "<a href=\"https://colab.research.google.com/github/jayjaytorrendon/Linear-Algebra/blob/main/Laboratory_1_Python_Programming.ipynb\" target=\"_parent\"><img src=\"https://colab.research.google.com/assets/colab-badge.svg\" alt=\"Open In Colab\"/></a>"
      ]
    },
    {
      "cell_type": "code",
      "metadata": {
        "colab": {
          "base_uri": "https://localhost:8080/"
        },
        "id": "ru_zuSF6maph",
        "outputId": "5dba379a-aed6-4888-a6e7-4651c263bbbc"
      },
      "source": [
        "print(\"Semestral Grade Computation\")\r\n",
        "wp, wm, wf = 0.3, 0.3, 0.4\r\n",
        "print(\"The weights of your semestral grades are:\\\r\n",
        "\\n\\tPrelim Grade : {:.2%}\\\r\n",
        "\\n\\tMidterm Grade: {:.2%}\\\r\n",
        "\\n\\tFinals Grade : {:.2%} \".format(wp, wm, wf))\r\n",
        "name = input(\"Name  : \")\r\n",
        "course = input(\"Course: \")\r\n",
        "prelim = float(input(\"Prelim Grade : \"))\r\n",
        "midterm = float(input(\"Midterm Grade: \"))\r\n",
        "finals = float(input(\"Finals Grade : \"))\r\n",
        "sg = prelim*wp + midterm*wm + finals*wf\r\n",
        "roundsg= round(sg, 2)\r\n",
        "happy, lol, sad = \"\\U0001F600\",\"\\U0001F606\",\"\\U0001F62D\"\r\n",
        "if(roundsg>70):\r\n",
        "  print(\"Hello {}, your semestral grade for the course {} is {}.{}\".format(name, course, roundsg, happy))\r\n",
        "elif(roundsg==70):\r\n",
        "  print(\"Hello {}, your semestral grade for the course {} is {}.{}\".format(name, course, roundsg, lol))\r\n",
        "else:\r\n",
        "  print(\"Hello {}, your semestral grade for the course {} is {}.{}\".format(name, course, roundsg, sad))\r\n"
      ],
      "execution_count": 3,
      "outputs": [
        {
          "output_type": "stream",
          "text": [
            "Semestral Grade Computation\n",
            "The weights of your semestral grades are:\n",
            "\tPrelim Grade : 30.00%\n",
            "\tMidterm Grade: 30.00%\n",
            "\tFinals Grade : 40.00% \n",
            "Name  : joel\n",
            "Course: linear\n",
            "Prelim Grade : 95.3\n",
            "Midterm Grade: 87.5\n",
            "Finals Grade : 68.45\n",
            "Hello joel, your semestral grade for the course linear is 82.22.😀\n"
          ],
          "name": "stdout"
        }
      ]
    }
  ]
}