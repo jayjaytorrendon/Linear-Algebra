{
  "nbformat": 4,
  "nbformat_minor": 0,
  "metadata": {
    "colab": {
      "name": "Laboratory 3: Linear Combinations and Spans",
      "provenance": [],
      "authorship_tag": "ABX9TyMEgKxfG/TMy6agSxsokMM7",
      "include_colab_link": true
    },
    "kernelspec": {
      "name": "python3",
      "display_name": "Python 3"
    }
  },
  "cells": [
    {
      "cell_type": "markdown",
      "metadata": {
        "id": "view-in-github",
        "colab_type": "text"
      },
      "source": [
        "<a href=\"https://colab.research.google.com/github/jayjaytorrendon/Linear-Algebra/blob/main/Laboratory_3_Linear_Combinations_and_Spans.ipynb\" target=\"_parent\"><img src=\"https://colab.research.google.com/assets/colab-badge.svg\" alt=\"Open In Colab\"/></a>"
      ]
    },
    {
      "cell_type": "code",
      "metadata": {
        "colab": {
          "base_uri": "https://localhost:8080/",
          "height": 469
        },
        "id": "LRk5YbqdLPgf",
        "outputId": "11314397-b49b-415f-b4fa-9bfa7df43fc2"
      },
      "source": [
        "import numpy as np\r\n",
        "import matplotlib.pyplot as plt\r\n",
        "print(\"Task 1[1]\")\r\n",
        "print(\"Task 2[2]\")\r\n",
        "enter=input(\"Selected Task: \")\r\n",
        "if enter=='1':\r\n",
        "  x=np.array([6,0])\r\n",
        "  y=np.array([0,8])\r\n",
        "  print(\"x: \",x)\r\n",
        "  print(\"y: \",y)\r\n",
        "  print(\"=========\")\r\n",
        "  print(\"Linear Combinations\")\r\n",
        "  print(\"x+y [a]\")\r\n",
        "  print(\"x-y [b]\")\r\n",
        "  comb=input(\"Select Linear Combination: \")\r\n",
        "  if comb=='a':\r\n",
        "    r=x+y\r\n",
        "    print(\"x: \",x)\r\n",
        "    print(\"y: \",y)\r\n",
        "    print(\"R: \", r)\r\n",
        "    plt.xlim(-15, 15)\r\n",
        "    plt.ylim(-15, 15)\r\n",
        "    plt.quiver(0,0, x[0], x[1], angles='xy', scale_units='xy',scale=1, label='x',color='blue')\r\n",
        "    plt.quiver(x[0], x[1], y[0], y[1],angles='xy', scale_units='xy',scale=1, label='y',color='yellow')\r\n",
        "    plt.quiver(0, 0, r[0], r[1],angles='xy', scale_units='xy',scale=1, label='R',color='red')\r\n",
        "    plt.grid()\r\n",
        "    plt.legend()\r\n",
        "    plt.show()\r\n",
        "  elif comb=='b':\r\n",
        "    r=x-y\r\n",
        "    print(\"x: \",x)\r\n",
        "    print(\"y: \",y)\r\n",
        "    print(\"R: \", r)\r\n",
        "    plt.xlim(-15, 15)\r\n",
        "    plt.ylim(-15, 15)\r\n",
        "    plt.quiver(0,0, x[0], x[1], angles='xy', scale_units='xy',scale=1, label='x',color='blue')\r\n",
        "    plt.quiver(x[0], x[1], -y[0], -y[1],angles='xy', scale_units='xy',scale=1, label='y',color='yellow')\r\n",
        "    plt.quiver(0, 0, r[0], r[1],angles='xy', scale_units='xy',scale=1, label='R',color='red')\r\n",
        "    plt.grid()\r\n",
        "    plt.legend()\r\n",
        "    plt.show()\r\n",
        "  else:\r\n",
        "    print(\"Invalid\")\r\n",
        "elif enter=='2':\r\n",
        "  a=np.array([1,0])\r\n",
        "  b=np.array([1,-1])\r\n",
        "  c=np.array([2,2])\r\n",
        "  print(\"a: \",a)\r\n",
        "  print(\"b: \",b)\r\n",
        "  print(\"c: \",c)\r\n",
        "  print(\"=========\")\r\n",
        "  print(\"Spans\")\r\n",
        "  print(\"a+b [a]\")\r\n",
        "  print(\"b*c [b]\")\r\n",
        "  print(\"c-a [c]\")\r\n",
        "  ab = a+b\r\n",
        "  bc = b*c\r\n",
        "  ca = c-a\r\n",
        "  sel=input(\"Select Span: \")\r\n",
        "  if sel =='a':\r\n",
        "    R = np.arange(-10,10,1)\r\n",
        "    c1,c2 = np.meshgrid(R,R)\r\n",
        "    spanRx= c1*a[0]+c2*b[0]\r\n",
        "    spanRy= c1*a[1]+c2*b[1]\r\n",
        "    plt.scatter(spanRx,spanRy, s=5, alpha=0.75)\r\n",
        "    plt.axhline(y=0, color='k')\r\n",
        "    plt.axvline(x=0, color='k')\r\n",
        "    plt.grid()\r\n",
        "    plt.show()\r\n",
        "  elif sel=='b':\r\n",
        "    R = np.arange(-5,5,1)\r\n",
        "    c1,c2 = np.meshgrid(R,R)\r\n",
        "    spanRx= c1*b[0]*c2*c[0]\r\n",
        "    spanRy= c1*b[1]*c2*c[1]\r\n",
        "    plt.scatter(spanRx,spanRy, s=5, alpha=0.75)\r\n",
        "    plt.axhline(y=0, color='k')\r\n",
        "    plt.axvline(x=0, color='k')\r\n",
        "    plt.grid()\r\n",
        "    plt.show()\r\n",
        "  elif sel=='c':\r\n",
        "    R = np.arange(-10,10,1)\r\n",
        "    c1,c2 = np.meshgrid(R,R)\r\n",
        "    spanRx= c1*c[0]-c2*a[0]\r\n",
        "    spanRy= c1*c[1]-c2*a[1]\r\n",
        "    plt.scatter(spanRx,spanRy, s=5, alpha=0.75)\r\n",
        "    plt.axhline(y=0, color='k')\r\n",
        "    plt.axvline(x=0, color='k')\r\n",
        "    plt.grid()\r\n",
        "    plt.show()\r\n",
        "  else:\r\n",
        "    print(\"Invalid Selection\")\r\n",
        "else:\r\n",
        "  print(\"Invalid Selection\")"
      ],
      "execution_count": 63,
      "outputs": [
        {
          "output_type": "stream",
          "text": [
            "Task 1[1]\n",
            "Task 2[2]\n",
            "Selected Task: 2\n",
            "a:  [1 0]\n",
            "b:  [ 1 -1]\n",
            "c:  [2 2]\n",
            "=========\n",
            "Spans\n",
            "a+b [a]\n",
            "b*c [b]\n",
            "c-a [c]\n",
            "Select Span: a\n"
          ],
          "name": "stdout"
        },
        {
          "output_type": "display_data",
          "data": {
            "image/png": "[encoded data removed]",
            "text/plain": [
              "<Figure size 432x288 with 1 Axes>"
            ]
          },
          "metadata": {
            "tags": [],
            "needs_background": "light"
          }
        }
      ]
    }
  ]
}